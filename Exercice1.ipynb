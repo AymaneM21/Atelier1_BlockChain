{
 "cells": [
  {
   "cell_type": "code",
   "execution_count": 1,
   "metadata": {},
   "outputs": [],
   "source": [
    "from hashlib import sha256"
   ]
  },
  {
   "cell_type": "code",
   "execution_count": 2,
   "metadata": {},
   "outputs": [],
   "source": [
    "# Fonction de hachage\n",
    "def hash_value(value):\n",
    "    return sha256(value.encode()).hexdigest()"
   ]
  },
  {
   "cell_type": "code",
   "execution_count": 20,
   "metadata": {},
   "outputs": [],
   "source": [
    "# Arbre de Merkle\n",
    "class MerkleTree:\n",
    "    def __init__(self, data_blocks):\n",
    "        self.leaves = [hash_value(block) for block in data_blocks]  # Hachage des feuilles\n",
    "        self.tree = self.build_tree(self.leaves)\n",
    "    \n",
    "    def build_tree(self, leaves):\n",
    "        if len(leaves) == 1:\n",
    "            return leaves\n",
    "        \n",
    "        new_level = []\n",
    "        for i in range(0, len(leaves), 2):\n",
    "            # Si nombre impair de feuilles, dupliquer la dernière feuille\n",
    "            if i + 1 == len(leaves):\n",
    "                new_level.append(hash_value(leaves[i] + leaves[i]))\n",
    "            else:\n",
    "                new_level.append(hash_value(leaves[i] + leaves[i + 1]))\n",
    "        \n",
    "        return self.build_tree(new_level) + leaves\n",
    "    \n",
    "    # Retourner la racine de Merkle\n",
    "    def get_root(self):\n",
    "        return self.tree[0]\n",
    "        # Print the tree\n",
    "    def print_tree(self):\n",
    "        print(\"Merkle Tree Levels:\")\n",
    "        total_levels = len(self.leaves).bit_length()\n",
    "        start = 0\n",
    "        for level in range(total_levels):\n",
    "            count = 2**level\n",
    "            print(self.tree[start:start + count])\n",
    "            start += count"
   ]
  },
  {
   "cell_type": "code",
   "execution_count": 22,
   "metadata": {},
   "outputs": [
    {
     "name": "stdout",
     "output_type": "stream",
     "text": [
      "Racine de Merkle : 50a504831bd50fee3581d287168a85a8dcdd6aa777ffd0fe35e37290268a0153\n"
     ]
    }
   ],
   "source": [
    "# Exemple\n",
    "if __name__ == \"__main__\":\n",
    "    blocks = ['A', 'B', 'C', 'D']\n",
    "    merkle_tree = MerkleTree(blocks)\n",
    "    \n",
    "    print(\"Racine de Merkle :\", merkle_tree.get_root())"
   ]
  },
  {
   "cell_type": "code",
   "execution_count": 23,
   "metadata": {},
   "outputs": [
    {
     "name": "stdout",
     "output_type": "stream",
     "text": [
      "Merkle Tree Levels:\n",
      "['50a504831bd50fee3581d287168a85a8dcdd6aa777ffd0fe35e37290268a0153']\n",
      "['b30ab174f7459cdd40a3acdf15d0c9444fec2adcfb9d579aa154c084885edd0a', '26b5aabe804fe5d533c663dea833e8078188376ce5ca2b5c3371d09ef6b0657b']\n",
      "['559aead08264d5795d3909718cdd05abd49572e84fe55590eef31a88a08fdffd', 'df7e70e5021544f4834bbee64a9e3789febc4be81470df629cad6ddb03320a5c', '6b23c0d5f35d1b11f9b683f0b0a617355deb11277d91ae091d399c655b87940d', '3f39d5c348e5b79d06e842c114e6cc571583bbf44e4b0ebfda1a01ec05745d43']\n"
     ]
    }
   ],
   "source": [
    "merkle_tree.print_tree()"
   ]
  },
  {
   "cell_type": "markdown",
   "metadata": {},
   "source": [
    "Maintenant Testons le bon fonctionnement de notre arbre en comparant ces résultats ..."
   ]
  },
  {
   "cell_type": "code",
   "execution_count": 17,
   "metadata": {},
   "outputs": [
    {
     "name": "stdout",
     "output_type": "stream",
     "text": [
      "559aead08264d5795d3909718cdd05abd49572e84fe55590eef31a88a08fdffd\n",
      "df7e70e5021544f4834bbee64a9e3789febc4be81470df629cad6ddb03320a5c\n",
      "6b23c0d5f35d1b11f9b683f0b0a617355deb11277d91ae091d399c655b87940d\n",
      "3f39d5c348e5b79d06e842c114e6cc571583bbf44e4b0ebfda1a01ec05745d43\n"
     ]
    }
   ],
   "source": [
    "hA = hash_value(\"A\")\n",
    "hB = hash_value(\"B\")\n",
    "hC = hash_value(\"C\")\n",
    "hD = hash_value(\"D\")\n",
    "print(hA)\n",
    "print(hB)\n",
    "print(hC)\n",
    "print(hD)"
   ]
  },
  {
   "cell_type": "code",
   "execution_count": 18,
   "metadata": {},
   "outputs": [
    {
     "name": "stdout",
     "output_type": "stream",
     "text": [
      "b30ab174f7459cdd40a3acdf15d0c9444fec2adcfb9d579aa154c084885edd0a\n",
      "26b5aabe804fe5d533c663dea833e8078188376ce5ca2b5c3371d09ef6b0657b\n"
     ]
    }
   ],
   "source": [
    "hAB=hash_value(hA+hB)\n",
    "hCD=hash_value(hC+hD)\n",
    "print(hAB)\n",
    "print(hCD)"
   ]
  },
  {
   "cell_type": "code",
   "execution_count": 19,
   "metadata": {},
   "outputs": [
    {
     "name": "stdout",
     "output_type": "stream",
     "text": [
      "50a504831bd50fee3581d287168a85a8dcdd6aa777ffd0fe35e37290268a0153\n"
     ]
    }
   ],
   "source": [
    "hABCD = hash_value(hAB+hCD)\n",
    "print(hABCD)"
   ]
  },
  {
   "cell_type": "markdown",
   "metadata": {},
   "source": [
    "On remarque donc le bon fonctionnement de l'arbre de merkle car la racine de merkle donnée ainsi que chaque hachage par notre code est égale à celui fait manuellement."
   ]
  }
 ],
 "metadata": {
  "kernelspec": {
   "display_name": "Python 3",
   "language": "python",
   "name": "python3"
  },
  "language_info": {
   "codemirror_mode": {
    "name": "ipython",
    "version": 3
   },
   "file_extension": ".py",
   "mimetype": "text/x-python",
   "name": "python",
   "nbconvert_exporter": "python",
   "pygments_lexer": "ipython3",
   "version": "3.12.0"
  }
 },
 "nbformat": 4,
 "nbformat_minor": 2
}
