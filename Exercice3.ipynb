{
 "cells": [
  {
   "cell_type": "code",
   "execution_count": 6,
   "metadata": {},
   "outputs": [],
   "source": [
    "import random\n",
    "import hashlib\n",
    "import time"
   ]
  },
  {
   "cell_type": "markdown",
   "metadata": {},
   "source": [
    "Ici on a la classe BlockPos qui permet d'initialiser un block PoS avec comme attributs : index, previoushash, data, validateur,timestamp, son hash.\n",
    "\n",
    "la fonction calculatehash permet de calculer le hash de ce block en fonction des attributs cités précedemment.\n",
    "\n",
    "la fonction validateblock permet de choisir le validateur de ce block de maniere aléatoire chaque participant a un nombre de coin misé et ce nombre de coin misé influence ce choix aléatoire, plus un participant a un nombre élevé de coin misé plus sa chance d'etre choisi comme validateur de ce block est grande."
   ]
  },
  {
   "cell_type": "code",
   "execution_count": null,
   "metadata": {},
   "outputs": [],
   "source": [
    "class BlockPoS:\n",
    "    def __init__(self, index, previous_hash, data):\n",
    "        self.index = index\n",
    "        self.previous_hash = previous_hash\n",
    "        self.data = data\n",
    "        self.timestamp = time.time()\n",
    "        self.validator = None\n",
    "        self.current_hash = self.calculate_hash()\n",
    "\n",
    "    # fonction pour calculer le hash du block\n",
    "    def calculate_hash(self):\n",
    "        block_content = f\"{self.index}{self.previous_hash}{self.data}{self.timestamp}{self.validator}\"\n",
    "        return hashlib.sha256(block_content.encode()).hexdigest()\n",
    "\n",
    "    # Nominer le \"validator\" qui va confirmer le block\n",
    "    def validate_block(self, validators):\n",
    "        total_stake = sum(stake for _, stake in validators)\n",
    "        selection = random.uniform(0, total_stake)\n",
    "        cumulative_stake = 0\n",
    "\n",
    "        for validator, stake in validators:\n",
    "            cumulative_stake += stake\n",
    "            if cumulative_stake >= selection:\n",
    "                self.validator = validator\n",
    "                break\n",
    "        # mise a jour du hash apres avoir assigner le validateur\n",
    "        self.current_hash = self.calculate_hash()\n",
    "        return self.validator  "
   ]
  },
  {
   "cell_type": "markdown",
   "metadata": {},
   "source": [
    "On a ici la classe BlockchainPoS qui est l'ensemble des block avec comme attributs les validateurs de cette chaine de blocks, elle commence par le block appelé genesis block.\n",
    "\n",
    "on a la fonction getlackblock pour prendre le block précedent.\n",
    "\n",
    "on a la fonction add_block qui permet d'ajouter un nouveau block en appliquant les etapes citées précedemment.\n",
    "\n",
    "la fonction printchain pour afficher nos blocks de la chaine avec les validateurs choisis pour chaque block les données et le hash."
   ]
  },
  {
   "cell_type": "code",
   "execution_count": 8,
   "metadata": {},
   "outputs": [],
   "source": [
    "class BlockchainPoS:\n",
    "    def __init__(self):\n",
    "        self.chain = [self.create_genesis_block()]\n",
    "        self.validators = [(\"Validator1\", 10), (\"Validator2\", 30), (\"Validator3\", 5)]\n",
    "\n",
    "    def create_genesis_block(self):\n",
    "        return BlockPoS(0, \"0\", \"Genesis Block PoS\")\n",
    "\n",
    "    def get_last_block(self):\n",
    "        return self.chain[-1]\n",
    "\n",
    "    def add_block(self, new_block_data):\n",
    "        previous_block = self.get_last_block()\n",
    "        new_block = BlockPoS(len(self.chain), previous_block.current_hash, new_block_data)\n",
    "        validator = new_block.validate_block(self.validators)\n",
    "        self.chain.append(new_block)\n",
    "        return validator\n",
    "\n",
    "    def print_chain(self):\n",
    "        for block in self.chain:\n",
    "            print(f\"Block {block.index}: [Validator: {block.validator}, Data: {block.data}, Hash: {block.current_hash}]\")"
   ]
  },
  {
   "cell_type": "markdown",
   "metadata": {},
   "source": [
    "Enfin on a ici la fonction qui nous permet de tester ces classes et  de calculer le temps d'execution de Proof of Stake."
   ]
  },
  {
   "cell_type": "code",
   "execution_count": 9,
   "metadata": {},
   "outputs": [],
   "source": [
    "# On teste le temps dexecution de Proof of Stake \n",
    "def test_pos():\n",
    "    blockchain_pos = BlockchainPoS()\n",
    "    start_time = time.time()\n",
    "    validator = blockchain_pos.add_block(\"New Block PoS\")\n",
    "    end_time = time.time()\n",
    "    validation_time = end_time - start_time\n",
    "    blockchain_pos.print_chain()\n",
    "    print(f\"Validator: {validator}, Time taken for PoS validation: {validation_time:.6f} seconds\")\n"
   ]
  },
  {
   "cell_type": "code",
   "execution_count": 10,
   "metadata": {},
   "outputs": [
    {
     "name": "stdout",
     "output_type": "stream",
     "text": [
      "Block 0: [Validator: None, Data: Genesis Block PoS, Hash: 300f2f1ec985055b812f22f0ae3f99297c4f5c1c0580c9453303f012d86d7c3f]\n",
      "Block 1: [Validator: Validator2, Data: New Block PoS, Hash: de7e19b724ed4235515eed853a7060fdddf3746bc25eda392a0563b683e131a9]\n",
      "Validator: Validator2, Time taken for PoS validation: 0.000000 seconds\n"
     ]
    }
   ],
   "source": [
    "test_pos()"
   ]
  },
  {
   "cell_type": "markdown",
   "metadata": {},
   "source": [
    "En testant le Proof of Work et le Proof of Stake, on peut conclure que le Proof of Stake est généralement plus rapide avec un temps d'execution plus petit, et cela car il ne possède pas de concept de difficulté comme le Proof of Work(voir exercice2.ipynb atelier 1 github), cela dit plus la difficulté est élevé dans un Proof of Work plus le temps d'execution sera plus grand. Donc la comparaison des deux dépend généralement de la difficulté du Proof of Work. . Le nombre de validateurs dans le Proof of Stake peut aussi avoir un effet, mais il est généralement moins problématique pour les performances."
   ]
  }
 ],
 "metadata": {
  "kernelspec": {
   "display_name": "Python 3",
   "language": "python",
   "name": "python3"
  },
  "language_info": {
   "codemirror_mode": {
    "name": "ipython",
    "version": 3
   },
   "file_extension": ".py",
   "mimetype": "text/x-python",
   "name": "python",
   "nbconvert_exporter": "python",
   "pygments_lexer": "ipython3",
   "version": "3.11.9"
  }
 },
 "nbformat": 4,
 "nbformat_minor": 2
}
