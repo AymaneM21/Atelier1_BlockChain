{
 "cells": [
  {
   "cell_type": "code",
   "execution_count": 1,
   "metadata": {},
   "outputs": [],
   "source": [
    "import hashlib\n",
    "import time"
   ]
  },
  {
   "cell_type": "markdown",
   "metadata": {},
   "source": [
    "Chaque bloc a un index, des données, un hash précédent, un timestamp, et un nonce (nombre aléatoire pour la preuve de travail).\n",
    "\n",
    "La méthode mine_block() cherche un hash avec un nombre spécifié de zéros au début, en ajustant le nonce jusqu'à ce que la condition soit satisfaite."
   ]
  },
  {
   "cell_type": "code",
   "execution_count": 2,
   "metadata": {},
   "outputs": [],
   "source": [
    "class Block:\n",
    "    def __init__(self, index, previous_hash, data, difficulty):\n",
    "        self.index = index\n",
    "        self.previous_hash = previous_hash\n",
    "        self.data = data\n",
    "        self.timestamp = time.time()\n",
    "        self.nonce = 0\n",
    "        self.difficulty = difficulty\n",
    "        self.hash = self.mine_block()\n",
    "    \n",
    "    # Calculer le hash du bloc\n",
    "    def calculate_hash(self):\n",
    "        block_content = f\"{self.index}{self.previous_hash}{self.data}{self.timestamp}{self.nonce}\"\n",
    "        return hashlib.sha256(block_content.encode()).hexdigest()\n",
    "    \n",
    "    # Preuve de travail : trouver un hash avec un nombre de zéros correspondant à la difficulté\n",
    "    def mine_block(self):\n",
    "        target = '0' * self.difficulty\n",
    "        while True:\n",
    "            self.hash = self.calculate_hash()\n",
    "            if self.hash[:self.difficulty] == target:\n",
    "                break\n",
    "            self.nonce += 1\n",
    "        return self.hash\n"
   ]
  },
  {
   "cell_type": "markdown",
   "metadata": {},
   "source": [
    "La blockchain commence avec un bloc genesis (le premier bloc de la chaîne).\n",
    "\n",
    "La méthode add_block() permet d’ajouter un nouveau bloc avec un certain niveau de difficulté."
   ]
  },
  {
   "cell_type": "code",
   "execution_count": 9,
   "metadata": {},
   "outputs": [],
   "source": [
    "class Blockchain:\n",
    "    def __init__(self, difficulty):\n",
    "        self.difficulty = difficulty \n",
    "        self.chain = [self.create_genesis_block()]\n",
    "        \n",
    "    \n",
    "    def create_genesis_block(self):\n",
    "        return Block(0, \"0\", \"Genesis Block\", self.difficulty)\n",
    "    \n",
    "    def get_last_block(self):\n",
    "        return self.chain[-1]\n",
    "    \n",
    "    def add_block(self, new_block_data):\n",
    "        previous_block = self.get_last_block()\n",
    "        new_block = Block(len(self.chain), previous_block.hash, new_block_data, self.difficulty)\n",
    "        self.chain.append(new_block)\n",
    "    \n",
    "    def print_chain(self):\n",
    "        for block in self.chain:\n",
    "            print(f\"Block {block.index}: [Hash: {block.hash}, Nonce: {block.nonce}, Data: {block.data}]\")\n"
   ]
  },
  {
   "cell_type": "markdown",
   "metadata": {},
   "source": [
    "La fonction test_difficulty() parcourt différents niveaux de difficulté (nombre de zéros au début du hash) et mesure le temps qu’il faut pour miner un bloc avec cette difficulté."
   ]
  },
  {
   "cell_type": "code",
   "execution_count": 10,
   "metadata": {},
   "outputs": [
    {
     "name": "stdout",
     "output_type": "stream",
     "text": [
      "\n",
      "Mining a block with difficulty level 1...\n",
      "Time taken to mine block: 0.0000 seconds\n",
      "Block 0: [Hash: 04787e586dea9c441860d87cc4fc6ab9ae98f07ff518c5d5317ac4568e6f99cd, Nonce: 7, Data: Genesis Block]\n",
      "Block 1: [Hash: 04dac63ecff3b43d9fceb5d63ef3f1b9e35118b8430087abb8ace891f66e30d1, Nonce: 13, Data: Block with difficulty 1]\n",
      "\n",
      "Mining a block with difficulty level 2...\n",
      "Time taken to mine block: 0.0000 seconds\n",
      "Block 0: [Hash: 00e04c83ff7a70c887823ac3119f5cda5728a7bf76441edd5ff995c8d74d435a, Nonce: 283, Data: Genesis Block]\n",
      "Block 1: [Hash: 004605da37fdf460f72bbd661a1a5bcec9cdad9e0ad54539ecf7d64d3b3c0f10, Nonce: 279, Data: Block with difficulty 2]\n",
      "\n",
      "Mining a block with difficulty level 3...\n",
      "Time taken to mine block: 0.0147 seconds\n",
      "Block 0: [Hash: 00079d34f5a9158f5e21812c15baf829b0ff0de9c9ae5e43980a4e4886ac0a2d, Nonce: 3916, Data: Genesis Block]\n",
      "Block 1: [Hash: 000a7805f2f22564cc9c37b3a9fbfe950cb2c9f77a267d110821e82d17df1733, Nonce: 2310, Data: Block with difficulty 3]\n",
      "\n",
      "Mining a block with difficulty level 4...\n",
      "Time taken to mine block: 0.0851 seconds\n",
      "Block 0: [Hash: 00009e16c006a03f18d3d31e63027c57b25afb62881b82cd7856c86f5c50213c, Nonce: 79116, Data: Genesis Block]\n",
      "Block 1: [Hash: 00009fdc90b0bfd9ae0861d0af767dd77bac688339667b600953323ce186191e, Nonce: 23366, Data: Block with difficulty 4]\n",
      "\n",
      "Mining a block with difficulty level 5...\n",
      "Time taken to mine block: 1.9313 seconds\n",
      "Block 0: [Hash: 00000406145470f0029e4af76875d45bd2424e451ea82b3dcd035656656b4ebb, Nonce: 994288, Data: Genesis Block]\n",
      "Block 1: [Hash: 000006fea43824cfbfd45c096a40c43e74e23611ad176b75a26a80376965d33d, Nonce: 513664, Data: Block with difficulty 5]\n"
     ]
    }
   ],
   "source": [
    "# Fonction pour tester la difficulté et mesurer le temps de minage\n",
    "def test_difficulty():\n",
    "    difficulties = [1, 2, 3, 4, 5]  # Différents niveaux de difficulté\n",
    "    for difficulty in difficulties:\n",
    "        print(f\"\\nMining a block with difficulty level {difficulty}...\")\n",
    "        \n",
    "        blockchain = Blockchain(difficulty)\n",
    "        start_time = time.time()  # Démarrer le chronomètre\n",
    "        \n",
    "        # Ajouter un nouveau bloc à la blockchain\n",
    "        blockchain.add_block(f\"Block with difficulty {difficulty}\")\n",
    "        \n",
    "        end_time = time.time()  # Arrêter le chronomètre\n",
    "        mining_time = end_time - start_time\n",
    "        \n",
    "        print(f\"Time taken to mine block: {mining_time:.4f} seconds\")\n",
    "        blockchain.print_chain()\n",
    "\n",
    "# Exécution du test avec différentes difficultés\n",
    "test_difficulty()\n",
    "\n"
   ]
  },
  {
   "cell_type": "markdown",
   "metadata": {},
   "source": [
    "La preuve de travail devient de plus en plus coûteuse en termes de calcul à mesure que la difficulté augmente."
   ]
  }
 ],
 "metadata": {
  "kernelspec": {
   "display_name": "Python 3",
   "language": "python",
   "name": "python3"
  },
  "language_info": {
   "codemirror_mode": {
    "name": "ipython",
    "version": 3
   },
   "file_extension": ".py",
   "mimetype": "text/x-python",
   "name": "python",
   "nbconvert_exporter": "python",
   "pygments_lexer": "ipython3",
   "version": "3.12.0"
  }
 },
 "nbformat": 4,
 "nbformat_minor": 2
}
